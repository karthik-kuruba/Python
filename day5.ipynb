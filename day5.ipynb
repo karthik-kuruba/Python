{
 "cells": [
  {
   "cell_type": "code",
   "execution_count": 2,
   "id": "d0eb45c5-f2c1-4cc2-943e-7da24dce9d24",
   "metadata": {},
   "outputs": [],
   "source": [
    "for i in range(5):\n",
    "    if i<3:\n",
    "        break\n",
    "    print(i)"
   ]
  },
  {
   "cell_type": "code",
   "execution_count": 3,
   "id": "bf053ecf-72b2-409a-8b38-d3e598ee1c73",
   "metadata": {},
   "outputs": [
    {
     "name": "stdin",
     "output_type": "stream",
     "text": [
      "Enter the index 2 \n"
     ]
    },
    {
     "name": "stdout",
     "output_type": "stream",
     "text": [
      "(1, 2, 4, 5, 6, 7, 8, 9)\n"
     ]
    }
   ],
   "source": [
    "t=(1,2,3,4,5,6,7,8,9)\n",
    "index=int(input(\"Enter the index\"))\n",
    "new_tuple = t[:index] + t[index+ 1:]\n",
    "print(new_tuple) "
   ]
  },
  {
   "cell_type": "code",
   "execution_count": 7,
   "id": "8728b8e4-f27e-4055-b724-6815fe47d145",
   "metadata": {},
   "outputs": [
    {
     "name": "stdout",
     "output_type": "stream",
     "text": [
      "Repeated items: {1, 2, 3}\n"
     ]
    }
   ],
   "source": [
    "def find_repeated_items(tup):\n",
    "    seen = set()\n",
    "    repeated = set()\n",
    "    for item in tup:\n",
    "        if item in seen:\n",
    "            repeated.add(item)\n",
    "        else:\n",
    "            seen.add(item)\n",
    "    return repeated\n",
    "my_tuple = (1, 2, 3, 2, 4, 5, 1, 6, 3)\n",
    "repeats = find_repeated_items(my_tuple)\n",
    "print(\"Repeated items:\", repeats)"
   ]
  },
  {
   "cell_type": "code",
   "execution_count": null,
   "id": "9a471850-5cf8-40e4-ac5c-208a65594b3a",
   "metadata": {},
   "outputs": [],
   "source": []
  }
 ],
 "metadata": {
  "kernelspec": {
   "display_name": "Python [conda env:base] *",
   "language": "python",
   "name": "conda-base-py"
  },
  "language_info": {
   "codemirror_mode": {
    "name": "ipython",
    "version": 3
   },
   "file_extension": ".py",
   "mimetype": "text/x-python",
   "name": "python",
   "nbconvert_exporter": "python",
   "pygments_lexer": "ipython3",
   "version": "3.13.5"
  }
 },
 "nbformat": 4,
 "nbformat_minor": 5
}
