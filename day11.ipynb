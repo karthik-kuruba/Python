{
 "cells": [
  {
   "cell_type": "code",
   "execution_count": 5,
   "id": "71cb143b-c531-4cfa-a007-4052e0ef4093",
   "metadata": {},
   "outputs": [
    {
     "name": "stdout",
     "output_type": "stream",
     "text": [
      "\n",
      "Inorder Travesal\n",
      "1 2 5 8 10 15 20 25 \n",
      "Preorder Traversal\n",
      "10 5 2 1 8 20 15 25 \n",
      " Postorder Traversal\n",
      "1 2 8 5 15 25 20 10 \n",
      " levelorder Traversal\n",
      "10\n",
      "5\n",
      "20\n",
      "2\n",
      "8\n",
      "15\n",
      "25\n",
      "1\n"
     ]
    }
   ],
   "source": [
    "class Node:\n",
    "    def __init__(self, root):\n",
    "        self.data = root\n",
    "        self.left = None\n",
    "        self.right = None\n",
    "    \n",
    "    \n",
    "   \n",
    "    def inorder(root):\n",
    "        if(root == None):\n",
    "            return\n",
    "        Node.inorder(root.left)  \n",
    "        print(root.data, end=' ')\n",
    "        Node.inorder(root.right)  \n",
    "    \n",
    "    \n",
    "    def preorder(root):\n",
    "        if(root == None):\n",
    "            return\n",
    "        print(root.data, end=' ')\n",
    "        Node.preorder(root.left)  \n",
    "        Node.preorder(root.right)  \n",
    "    \n",
    "   \n",
    "    def postorder(root):\n",
    "        if(root == None):\n",
    "            return\n",
    "        Node.postorder(root.left) \n",
    "        Node.postorder(root.right) \n",
    "        print(root.data, end=' ')\n",
    "    def levelorder(root):\n",
    "        if(root==None):\n",
    "            return\n",
    "        queue = [root]\n",
    "        while queue:\n",
    "            current = queue.pop(0)\n",
    "            print(current.data)\n",
    "            if current.left:\n",
    "                queue.append(current.left)\n",
    "            if current.right:\n",
    "                queue.append(current.right)    \n",
    "\n",
    "\n",
    "root = Node(10)\n",
    "root.left = Node(5)\n",
    "root.right = Node(20)\n",
    "root.left.left = Node(2)\n",
    "root.left.right = Node(8)\n",
    "root.right.left = Node(15)\n",
    "root.right.right = Node(25)\n",
    "root.left.left.left = Node(1)\n",
    "\n",
    "print(\"\\nInorder Travesal\")\n",
    "Node.inorder(root)  \n",
    "print(\"\\nPreorder Traversal\")\n",
    "Node.preorder(root)  \n",
    "print(\"\\n Postorder Traversal\")\n",
    "Node.postorder(root)\n",
    "print(\"\\n levelorder Traversal\")\n",
    "Node.levelorder(root)"
   ]
  },
  {
   "cell_type": "code",
   "execution_count": 6,
   "id": "79971782-90e3-4d31-9c35-a9e24ce40d37",
   "metadata": {},
   "outputs": [
    {
     "name": "stdout",
     "output_type": "stream",
     "text": [
      "Sum of all nodes: 40\n"
     ]
    }
   ],
   "source": [
    "class Node:\n",
    "    def __init__(self, value):\n",
    "        self.value = value\n",
    "        self.left = None\n",
    "        self.right = None\n",
    "\n",
    "def sum_bst(root):\n",
    "    if root is None:\n",
    "        return 0\n",
    "    return root.value + sum_bst(root.left) + sum_bst(root.right)\n",
    "\n",
    "root = Node(10)\n",
    "root.left = Node(5)\n",
    "root.right = Node(15)\n",
    "root.left.left = Node(3)\n",
    "root.left.right = Node(7)\n",
    "\n",
    "print(\"Sum of all nodes:\", sum_bst(root))  # Output: 40"
   ]
  },
  {
   "cell_type": "code",
   "execution_count": 7,
   "id": "0a44f431-0580-40e2-b343-2dab7cefd9ed",
   "metadata": {},
   "outputs": [
    {
     "name": "stdout",
     "output_type": "stream",
     "text": [
      "Height of the tree: 4\n"
     ]
    }
   ],
   "source": [
    "# Height of tree\n",
    "class Node:\n",
    "    def __init__(self, data):\n",
    "        self.data = data\n",
    "        self.left = None\n",
    "        self.right = None\n",
    "def height(root):\n",
    "    if root is None:\n",
    "        return 0\n",
    "    left_height = height(root.left)\n",
    "    right_height = height(root.right)\n",
    "    return max(left_height, right_height) + 1\n",
    "root.left = Node(5)\n",
    "root.right = Node(20)\n",
    "root.left.left = Node(2)\n",
    "root.left.right = Node(8)\n",
    "root.right.left = Node(15)\n",
    "root.right.right = Node(25)\n",
    "root.left.left.left = Node(1)\n",
    "print(\"Height of the tree:\", height(root))\n"
   ]
  },
  {
   "cell_type": "code",
   "execution_count": null,
   "id": "ee17596e-7a50-401e-a202-c252f200b498",
   "metadata": {},
   "outputs": [],
   "source": []
  }
 ],
 "metadata": {
  "kernelspec": {
   "display_name": "Python 3 (ipykernel)",
   "language": "python",
   "name": "python3"
  },
  "language_info": {
   "codemirror_mode": {
    "name": "ipython",
    "version": 3
   },
   "file_extension": ".py",
   "mimetype": "text/x-python",
   "name": "python",
   "nbconvert_exporter": "python",
   "pygments_lexer": "ipython3",
   "version": "3.13.5"
  }
 },
 "nbformat": 4,
 "nbformat_minor": 5
}
