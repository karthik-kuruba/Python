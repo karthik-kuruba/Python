{
 "cells": [
  {
   "cell_type": "code",
   "execution_count": 2,
   "id": "4e002843-8f16-464f-beab-ad16faf47953",
   "metadata": {},
   "outputs": [
    {
     "name": "stdin",
     "output_type": "stream",
     "text": [
      "Enter a number:  85\n"
     ]
    },
    {
     "name": "stdout",
     "output_type": "stream",
     "text": [
      "Googly\n"
     ]
    }
   ],
   "source": [
    "#googly number\n",
    "n = int(input(\"Enter a number: \"))\n",
    "s = 0\n",
    "for d in str(n):\n",
    "    s += int(d)\n",
    "prime = True\n",
    "if s < 2:\n",
    "    prime = False\n",
    "else:\n",
    "    for i in range(2, s):\n",
    "        if s % i == 0:\n",
    "            prime = False\n",
    "            break\n",
    "if prime:\n",
    "    print(\"Googly\")\n",
    "else:\n",
    "    print(\"Not Googly\")"
   ]
  },
  {
   "cell_type": "code",
   "execution_count": 4,
   "id": "86b61563-41d8-4fa9-94e4-7c5d6816293c",
   "metadata": {},
   "outputs": [
    {
     "name": "stdin",
     "output_type": "stream",
     "text": [
      "Enter a number:  153\n"
     ]
    },
    {
     "name": "stdout",
     "output_type": "stream",
     "text": [
      "153 is an Armstrong number\n"
     ]
    }
   ],
   "source": [
    "#Armstrong number\n",
    "num = int(input(\"Enter a number: \"))\n",
    "n = len(str(num))\n",
    "total = 0\n",
    "temp = num\n",
    "while temp > 0:\n",
    "    digit = temp % 10\n",
    "    total += digit ** n\n",
    "    temp //= 10\n",
    "if total == num:\n",
    "    print(num, \"is an Armstrong number\")\n",
    "else:\n",
    "    print(num, \"is not an Armstrong number\")\n"
   ]
  },
  {
   "cell_type": "code",
   "execution_count": 5,
   "id": "832d493e-7aa5-4d64-b813-8dbf661e8e68",
   "metadata": {},
   "outputs": [
    {
     "name": "stdin",
     "output_type": "stream",
     "text": [
      "Enter a number:  16\n"
     ]
    },
    {
     "name": "stdout",
     "output_type": "stream",
     "text": [
      "16 is not a Neon number\n"
     ]
    }
   ],
   "source": [
    "#neon number\n",
    "num = int(input(\"Enter a number: \"))\n",
    "sqr = num * num\n",
    "sum = 0\n",
    "while sqr > 0:\n",
    "    digit = sqr % 10\n",
    "    sum += digit\n",
    "    sqr //= 10\n",
    "if num == sum:\n",
    "    print(num, \"is a Neon number\")\n",
    "else:\n",
    "    print(num, \"is not a Neon number\")\n"
   ]
  },
  {
   "cell_type": "code",
   "execution_count": 7,
   "id": "8c4e0702-815d-4c16-9b2f-722ff98f42cd",
   "metadata": {},
   "outputs": [
    {
     "name": "stdin",
     "output_type": "stream",
     "text": [
      "enter number: 67\n"
     ]
    },
    {
     "name": "stdout",
     "output_type": "stream",
     "text": [
      "not a magic number\n"
     ]
    }
   ],
   "source": [
    "#magic number\n",
    "num=int(input(\"enter number:\"))\n",
    "while num>9:\n",
    "    sum=0\n",
    "    while num>0:\n",
    "        d=num%10\n",
    "        sum+=d\n",
    "        num//=10\n",
    "    num=sum\n",
    "if num==1:\n",
    "    print(\"magic number\")\n",
    "else:\n",
    "    print(\"not a magic number\")\n",
    "    "
   ]
  },
  {
   "cell_type": "code",
   "execution_count": 8,
   "id": "73c60492-7a47-4a73-9cc5-83e7fd5cc07d",
   "metadata": {},
   "outputs": [
    {
     "name": "stdin",
     "output_type": "stream",
     "text": [
      " 565\n"
     ]
    },
    {
     "name": "stdout",
     "output_type": "stream",
     "text": [
      "Composite num\n"
     ]
    }
   ],
   "source": [
    "#composite number\n",
    "#num = int(input(\"Enter a number: \"))\n",
    "n=int(input())\n",
    "flag=0\n",
    "for i in range(2,n):\n",
    "    if n%i==0:\n",
    "        flag+=1\n",
    "if flag==0:\n",
    "    print(\"Not composite num\")\n",
    "else:\n",
    "    print(\"Composite num\")\n"
   ]
  },
  {
   "cell_type": "code",
   "execution_count": 9,
   "id": "b1d3c837-20d1-414d-8c7d-c7226c772b3c",
   "metadata": {},
   "outputs": [
    {
     "name": "stdin",
     "output_type": "stream",
     "text": [
      "Enter a number:  36\n"
     ]
    },
    {
     "name": "stdout",
     "output_type": "stream",
     "text": [
      "36 is NOT a Perfect Number\n"
     ]
    }
   ],
   "source": [
    "#perfect number\n",
    "num = int(input(\"Enter a number: \"))\n",
    "sum = 0\n",
    "\n",
    "for i in range(1, num):\n",
    "    if num % i == 0:\n",
    "        sum += i\n",
    "\n",
    "if sum == num:\n",
    "    print(num, \"is a Perfect Number\")\n",
    "else:\n",
    "    print(num, \"is NOT a Perfect Number\")"
   ]
  },
  {
   "cell_type": "code",
   "execution_count": 13,
   "id": "fe15e5ee-8964-49bc-a9bc-c8be5f5657b9",
   "metadata": {},
   "outputs": [
    {
     "name": "stdin",
     "output_type": "stream",
     "text": [
      "Enter a number:  48\n"
     ]
    },
    {
     "name": "stdout",
     "output_type": "stream",
     "text": [
      "48 is a Niven number\n"
     ]
    }
   ],
   "source": [
    "#niven number\n",
    "num = int(input(\"Enter a number: \"))\n",
    "temp = num\n",
    "sum = 0\n",
    "while temp > 0:\n",
    "    sum += temp % 10\n",
    "    temp //= 10\n",
    "if sum != 0 and num % sum == 0:\n",
    "    print(num, \"is a Niven number\")\n",
    "else:\n",
    "    print(num, \"is NOT a Niven number\")"
   ]
  },
  {
   "cell_type": "code",
   "execution_count": 15,
   "id": "af1d9b5a-d7c7-44cf-a535-4644f8ff2ee3",
   "metadata": {},
   "outputs": [
    {
     "name": "stdin",
     "output_type": "stream",
     "text": [
      "Enter a number:  20\n"
     ]
    },
    {
     "name": "stdout",
     "output_type": "stream",
     "text": [
      "20 is not a Strong Number.\n"
     ]
    }
   ],
   "source": [
    "def factorial(n):\n",
    "    if n == 0 or n == 1:\n",
    "        return 1\n",
    "    return n * factorial(n - 1)\n",
    "\n",
    "def is_strong_number(num):\n",
    "    temp = num\n",
    "    sum_of_factorials = 0\n",
    "    while temp > 0:\n",
    "        digit = temp % 10\n",
    "        sum_of_factorials += factorial(digit)\n",
    "        temp //= 10\n",
    "    return sum_of_factorials == num\n",
    "# Example usage\n",
    "number = int(input(\"Enter a number: \"))\n",
    "if is_strong_number(number):\n",
    "    print(f\"{number} is a Strong Number.\")\n",
    "else:\n",
    "    print(f\"{number} is not a Strong Number.\")"
   ]
  },
  {
   "cell_type": "code",
   "execution_count": null,
   "id": "229e4a4b-b3f8-477e-9f51-5d89d90750cb",
   "metadata": {},
   "outputs": [],
   "source": []
  }
 ],
 "metadata": {
  "kernelspec": {
   "display_name": "Python [conda env:base] *",
   "language": "python",
   "name": "conda-base-py"
  },
  "language_info": {
   "codemirror_mode": {
    "name": "ipython",
    "version": 3
   },
   "file_extension": ".py",
   "mimetype": "text/x-python",
   "name": "python",
   "nbconvert_exporter": "python",
   "pygments_lexer": "ipython3",
   "version": "3.13.5"
  }
 },
 "nbformat": 4,
 "nbformat_minor": 5
}
