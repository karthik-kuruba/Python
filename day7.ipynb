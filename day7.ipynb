{
 "cells": [
  {
   "cell_type": "code",
   "execution_count": 6,
   "id": "e8ea6a8b-14e9-47b9-afb1-31ad14ba0dc6",
   "metadata": {},
   "outputs": [
    {
     "name": "stdout",
     "output_type": "stream",
     "text": [
      "1\n"
     ]
    }
   ],
   "source": [
    "#length of longest palindrome in string \n",
    "s = \"a\"\n",
    "n = len(s)\n",
    "max_len = 0\n",
    "\n",
    "for i in range(n):\n",
    "    for j in range(i, n):\n",
    "        l, r = i, j\n",
    "        while l < r and s[l] == s[r]:\n",
    "            l += 1\n",
    "            r -= 1\n",
    "        if l >= r:\n",
    "            max_len = max(max_len, j - i + 1)\n",
    "\n",
    "print(max_len)\n",
    "\n"
   ]
  },
  {
   "cell_type": "code",
   "execution_count": 7,
   "id": "d8b3ecb4-7e19-4b8d-ae48-35afa8d9fbdc",
   "metadata": {},
   "outputs": [
    {
     "name": "stdout",
     "output_type": "stream",
     "text": [
      "hi 10 20\n"
     ]
    }
   ],
   "source": [
    "def qwer(x,y):\n",
    "    print(\"hi\",x,y)\n",
    "qwer(x=10,y=20)\n",
    "    \n"
   ]
  },
  {
   "cell_type": "code",
   "execution_count": 8,
   "id": "ea2adc6f-993e-4cb1-99c2-108acfe90843",
   "metadata": {},
   "outputs": [
    {
     "name": "stdout",
     "output_type": "stream",
     "text": [
      "10 hi\n",
      "630\n"
     ]
    }
   ],
   "source": [
    "def qwer(x):\n",
    "    print(x,'hi')\n",
    "    return 30\n",
    "c=qwer(10)+600\n",
    "print(c)"
   ]
  },
  {
   "cell_type": "code",
   "execution_count": 11,
   "id": "11ef75fb-6c74-4c4c-957a-e93b81b44d4c",
   "metadata": {},
   "outputs": [
    {
     "name": "stdin",
     "output_type": "stream",
     "text": [
      " 5\n",
      " 6\n"
     ]
    },
    {
     "name": "stdout",
     "output_type": "stream",
     "text": [
      "11\n"
     ]
    }
   ],
   "source": [
    "f=lambda a,b:a+b\n",
    "n=int(input())\n",
    "m=int(input())\n",
    "result=f(n,m)\n",
    "print(result)"
   ]
  },
  {
   "cell_type": "code",
   "execution_count": 12,
   "id": "7d1ffdc6-e1df-47af-9a04-657d4e055744",
   "metadata": {},
   "outputs": [
    {
     "name": "stdout",
     "output_type": "stream",
     "text": [
      "[2, 4, 6, 8]\n"
     ]
    }
   ],
   "source": [
    "nums=[1,2,3,4,5,6,7,8,9]\n",
    "evens=list(filter(lambda n:n%2==0,nums))\n",
    "print(evens)"
   ]
  },
  {
   "cell_type": "code",
   "execution_count": 13,
   "id": "c48b416f-f961-4825-ae79-01f10a0adbd1",
   "metadata": {},
   "outputs": [
    {
     "name": "stdout",
     "output_type": "stream",
     "text": [
      "[4, 8, 12, 16]\n"
     ]
    }
   ],
   "source": [
    "def update(n):\n",
    "    return n*2\n",
    "nums=[1,2,3,4,5,6,7,8,9]\n",
    "evens=list(filter(lambda n:n%2==0,nums))\n",
    "doubles=list(map(update,evens))\n",
    "print(doubles)"
   ]
  },
  {
   "cell_type": "code",
   "execution_count": 14,
   "id": "762dcafb-fd6b-4828-8a41-434b11362d2d",
   "metadata": {},
   "outputs": [
    {
     "name": "stdout",
     "output_type": "stream",
     "text": [
      "[4, 8, 12, 16]\n",
      "40\n"
     ]
    }
   ],
   "source": [
    "from functools import reduce\n",
    "def add_all(a,b):\n",
    "    return a+b\n",
    "nums=[1,2,3,4,5,6,7,8,9]\n",
    "evens=list(filter(lambda n:n%2==0,nums))\n",
    "doubles=list(map(lambda n:n*2,evens))\n",
    "num=reduce(lambda a,b:a+b,doubles)\n",
    "print(doubles)\n",
    "print(num)\n"
   ]
  },
  {
   "cell_type": "code",
   "execution_count": 15,
   "id": "8fcd5282-d380-4f7f-b1fb-a4bc4dad7761",
   "metadata": {},
   "outputs": [
    {
     "name": "stdin",
     "output_type": "stream",
     "text": [
      "Enter a number:  55\n"
     ]
    },
    {
     "name": "stdout",
     "output_type": "stream",
     "text": [
      "55 is Not Prime\n"
     ]
    }
   ],
   "source": [
    "def is_prime(num):\n",
    "    if num < 2:\n",
    "        return False\n",
    "    for i in range(2, int(num**0.5) + 1):\n",
    "        if num % i == 0:\n",
    "            return False\n",
    "    return True\n",
    "\n",
    "n = int(input(\"Enter a number: \"))\n",
    "print(f\"{n} is Prime\" if is_prime(n) else f\"{n} is Not Prime\")"
   ]
  },
  {
   "cell_type": "code",
   "execution_count": 17,
   "id": "0df0a97d-5f51-4847-8fe4-c597f44bacb9",
   "metadata": {},
   "outputs": [
    {
     "name": "stdin",
     "output_type": "stream",
     "text": [
      "Enter a number:  66\n"
     ]
    },
    {
     "name": "stdout",
     "output_type": "stream",
     "text": [
      "66 is Not Armstrong\n"
     ]
    }
   ],
   "source": [
    "def is_armstrong(num):\n",
    "    power = len(str(num))\n",
    "    total = sum(int(d)**power for d in str(num))\n",
    "    return total == num\n",
    "\n",
    "n = int(input(\"Enter a number: \"))\n",
    "print(f\"{n} is Armstrong\" if is_armstrong(n) else f\"{n} is Not Armstrong\")"
   ]
  },
  {
   "cell_type": "code",
   "execution_count": 18,
   "id": "27f2e109-59bb-4ec4-82c9-8a9a08108d31",
   "metadata": {},
   "outputs": [
    {
     "name": "stdin",
     "output_type": "stream",
     "text": [
      "Enter a number:  45\n"
     ]
    },
    {
     "name": "stdout",
     "output_type": "stream",
     "text": [
      "45 is Not Perfect\n"
     ]
    }
   ],
   "source": [
    "def is_perfect(num):\n",
    "    divisors_sum = sum(i for i in range(1, num) if num % i == 0)\n",
    "    return divisors_sum == num\n",
    "\n",
    "n = int(input(\"Enter a number: \"))\n",
    "print(f\"{n} is Perfect\" if is_perfect(n) else f\"{n} is Not Perfect\")"
   ]
  },
  {
   "cell_type": "code",
   "execution_count": 19,
   "id": "4cfcf432-80ba-4cf7-a317-b9ee8ae5bc89",
   "metadata": {},
   "outputs": [
    {
     "name": "stdin",
     "output_type": "stream",
     "text": [
      "Enter a number:  88\n"
     ]
    },
    {
     "name": "stdout",
     "output_type": "stream",
     "text": [
      "Sum of digits: 16\n"
     ]
    }
   ],
   "source": [
    "def sum_of_digits(num):\n",
    "    total = 0\n",
    "    while num > 0:\n",
    "        total += num % 10\n",
    "        num //= 10\n",
    "    return total\n",
    "\n",
    "n = int(input(\"Enter a number: \"))\n",
    "print(\"Sum of digits:\", sum_of_digits(n))"
   ]
  },
  {
   "cell_type": "code",
   "execution_count": 21,
   "id": "bcd9bb92-4730-4d85-8769-77f4174e2409",
   "metadata": {},
   "outputs": [
    {
     "name": "stdin",
     "output_type": "stream",
     "text": [
      "Enter a number:  6\n"
     ]
    },
    {
     "name": "stdout",
     "output_type": "stream",
     "text": [
      "Factorial: 720\n"
     ]
    }
   ],
   "source": [
    "def factorial(n):\n",
    "    result = 1\n",
    "    for i in range(1, n + 1):\n",
    "        result *= i\n",
    "    return result\n",
    "num = int(input(\"Enter a number: \"))\n",
    "print(\"Factorial:\", factorial(num))"
   ]
  },
  {
   "cell_type": "code",
   "execution_count": 27,
   "id": "18b061d5-87fb-4bec-b617-07f4f65b9466",
   "metadata": {},
   "outputs": [
    {
     "name": "stdin",
     "output_type": "stream",
     "text": [
      " 5\n"
     ]
    },
    {
     "name": "stdout",
     "output_type": "stream",
     "text": [
      "5 4 3 2 1 1 2 3 4 5 "
     ]
    }
   ],
   "source": [
    "#print 5 4 3 2 1 1 2 3 4 5 if input is given 5 \n",
    "def print_pattern(n, current=None):\n",
    "    if current is None:\n",
    "        current = n\n",
    "    if current == 0:\n",
    "        return\n",
    "    print(current, end=' ')\n",
    "    print_pattern(n, current - 1)\n",
    "    print(current, end=' ')\n",
    "n=int(input())\n",
    "print_pattern(n)\n"
   ]
  },
  {
   "cell_type": "code",
   "execution_count": 31,
   "id": "1cad8137-d04c-4795-bc41-f88a864992c8",
   "metadata": {},
   "outputs": [
    {
     "name": "stdin",
     "output_type": "stream",
     "text": [
      " 5\n"
     ]
    },
    {
     "name": "stdout",
     "output_type": "stream",
     "text": [
      "1 2 3 4 5 "
     ]
    }
   ],
   "source": [
    "# 1 to n\n",
    "def nums(n):\n",
    "    if n==0:\n",
    "        return\n",
    "    nums(n-1)\n",
    "    print(n,end=\" \")\n",
    "   \n",
    "    \n",
    "n=int(input())\n",
    "nums(n)"
   ]
  },
  {
   "cell_type": "code",
   "execution_count": 32,
   "id": "81b346b5-5c90-4e27-8095-2f4a5cfac098",
   "metadata": {},
   "outputs": [
    {
     "name": "stdin",
     "output_type": "stream",
     "text": [
      " 5\n"
     ]
    },
    {
     "name": "stdout",
     "output_type": "stream",
     "text": [
      "5 4 3 2 1 "
     ]
    }
   ],
   "source": [
    "# n to 1\n",
    "#\n",
    "def nums(n):\n",
    "    if n==0:\n",
    "        return\n",
    "    \n",
    "    print(n,end=\" \")\n",
    "    nums(n-1)\n",
    "    \n",
    "n=int(input())\n",
    "nums(n)"
   ]
  },
  {
   "cell_type": "code",
   "execution_count": 37,
   "id": "966edd7d-ca83-4e83-9bba-743bf8dae669",
   "metadata": {},
   "outputs": [
    {
     "name": "stdin",
     "output_type": "stream",
     "text": [
      " 65\n"
     ]
    },
    {
     "name": "stdout",
     "output_type": "stream",
     "text": [
      "56\n"
     ]
    }
   ],
   "source": [
    "#reverse of a number\n",
    "def new(n,rev=0):\n",
    "    if n==0:\n",
    "        return rev\n",
    "    return new(n//10,rev*10+n%10)\n",
    "num=int(input())\n",
    "print(new(num))\n",
    "    "
   ]
  },
  {
   "cell_type": "code",
   "execution_count": 39,
   "id": "3d5f602c-b4e9-46c3-a7d3-cf2e5acb5112",
   "metadata": {},
   "outputs": [
    {
     "name": "stdout",
     "output_type": "stream",
     "text": [
      "Perfect square: False\n"
     ]
    }
   ],
   "source": [
    "#check given input is square or not \n",
    "def is_perfect_square(n, i=1):\n",
    "    if i * i == n:\n",
    "        return True\n",
    "    if i * i > n:\n",
    "        return False\n",
    "    return is_perfect_square(n, i + 1)\n",
    "num = 66\n",
    "print(\"Perfect square:\", is_perfect_square(num))"
   ]
  },
  {
   "cell_type": "code",
   "execution_count": 41,
   "id": "51ed20f1-9fd2-46ae-9562-79672108ccaa",
   "metadata": {},
   "outputs": [
    {
     "name": "stdout",
     "output_type": "stream",
     "text": [
      "Perfect square: False\n"
     ]
    }
   ],
   "source": [
    "#check given input is square or not \n",
    "def is_perfect_square(n, i=1):\n",
    "    if i * i == n:\n",
    "        return True\n",
    "    if i * i > n:\n",
    "        return False\n",
    "    return is_perfect_square(n, i + 1)\n",
    "num = 66\n",
    "print(\"Perfect square:\", is_perfect_square(num))"
   ]
  },
  {
   "cell_type": "code",
   "execution_count": 45,
   "id": "ee84613c-1c0b-4c2c-8d22-a400177ffd48",
   "metadata": {},
   "outputs": [
    {
     "name": "stdin",
     "output_type": "stream",
     "text": [
      " 12312\n"
     ]
    },
    {
     "name": "stdout",
     "output_type": "stream",
     "text": [
      "Palindrome: False\n"
     ]
    }
   ],
   "source": [
    "def palindrome(n, rev=0, temp=None):\n",
    "    if temp is None:\n",
    "        temp = n\n",
    "    if n == 0:\n",
    "        return temp == rev\n",
    "    rev = rev * 10 + n % 10\n",
    "    return palindrome(n // 10, rev, temp)\n",
    "num = int(input())\n",
    "print(\"Palindrome:\", palindrome(num))"
   ]
  },
  {
   "cell_type": "code",
   "execution_count": 47,
   "id": "4c4e0c32-e6f0-4c8b-9cce-fa493d97bae1",
   "metadata": {},
   "outputs": [
    {
     "name": "stdin",
     "output_type": "stream",
     "text": [
      " 64\n"
     ]
    },
    {
     "name": "stdout",
     "output_type": "stream",
     "text": [
      "Power of two: True\n"
     ]
    }
   ],
   "source": [
    "def is_power_of_two(n):\n",
    "    if n == 1:\n",
    "        return True\n",
    "    if n == 0 or n % 2 != 0:\n",
    "        return False\n",
    "    return is_power_of_two(n // 2)\n",
    "num = int(input())\n",
    "print(\"Power of two:\", is_power_of_two(num))"
   ]
  },
  {
   "cell_type": "code",
   "execution_count": null,
   "id": "28fde893-041f-4bb9-92d7-ec2e757e3b64",
   "metadata": {},
   "outputs": [],
   "source": []
  }
 ],
 "metadata": {
  "kernelspec": {
   "display_name": "Python [conda env:base] *",
   "language": "python",
   "name": "conda-base-py"
  },
  "language_info": {
   "codemirror_mode": {
    "name": "ipython",
    "version": 3
   },
   "file_extension": ".py",
   "mimetype": "text/x-python",
   "name": "python",
   "nbconvert_exporter": "python",
   "pygments_lexer": "ipython3",
   "version": "3.13.5"
  }
 },
 "nbformat": 4,
 "nbformat_minor": 5
}
