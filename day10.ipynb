{
 "cells": [
  {
   "cell_type": "code",
   "execution_count": 1,
   "id": "c973f4cc-8642-477d-9e11-bcb5bfcf99a3",
   "metadata": {},
   "outputs": [
    {
     "name": "stdout",
     "output_type": "stream",
     "text": [
      "[1, 2, 3, 4, 5, 6, 7, 9]\n"
     ]
    }
   ],
   "source": [
    "# Bubble sort\n",
    "def bubble_sort(arr):\n",
    "    n = len(arr)\n",
    "    for i in range(n):\n",
    "        for j in range(0, n-i-1):\n",
    "            if arr[j] > arr[j+1]:\n",
    "                arr[j], arr[j+1] = arr[j+1], arr[j]\n",
    "    return arr\n",
    "\n",
    "print(bubble_sort([3,6,5,7,1,9,2,4]))\n"
   ]
  },
  {
   "cell_type": "code",
   "execution_count": 2,
   "id": "8018a79e-f8e2-44a8-b23e-7c0675858e3e",
   "metadata": {},
   "outputs": [
    {
     "name": "stdout",
     "output_type": "stream",
     "text": [
      "[2, 3, 4, 5, 8]\n"
     ]
    }
   ],
   "source": [
    "#selection sort\n",
    "def selection_sort(arr):\n",
    "    n = len(arr)\n",
    "    for i in range(n):\n",
    "        min_idx = i\n",
    "        for j in range(i+1, n):\n",
    "            if arr[j] < arr[min_idx]:\n",
    "                min_idx = j\n",
    "        arr[i], arr[min_idx] = arr[min_idx], arr[i]\n",
    "    return arr\n",
    "\n",
    "print(selection_sort([5, 3, 8, 4, 2]))\n"
   ]
  },
  {
   "cell_type": "code",
   "execution_count": 3,
   "id": "bc01084b-a975-4cde-ae37-e53f44cbecf6",
   "metadata": {},
   "outputs": [
    {
     "name": "stdout",
     "output_type": "stream",
     "text": [
      "[2, 3, 4, 5, 8]\n"
     ]
    }
   ],
   "source": [
    "#insertion sort\n",
    "def insertion_sort(arr):\n",
    "    for i in range(1, len(arr)):\n",
    "        key = arr[i]\n",
    "        j = i-1\n",
    "        while j >= 0 and key < arr[j]:\n",
    "            arr[j+1] = arr[j]\n",
    "            j -= 1\n",
    "        arr[j+1] = key\n",
    "    return arr\n",
    "\n",
    "print(insertion_sort([5, 3, 8, 4, 2]))\n"
   ]
  },
  {
   "cell_type": "code",
   "execution_count": 4,
   "id": "65057911-bb26-454f-84a7-53468d836f4f",
   "metadata": {},
   "outputs": [
    {
     "name": "stdout",
     "output_type": "stream",
     "text": [
      "[2, 3, 4, 5, 8]\n"
     ]
    }
   ],
   "source": [
    "def quick_sort(arr):\n",
    "    if len(arr) <= 1:\n",
    "        return arr\n",
    "    pivot = arr[len(arr)//2]\n",
    "    left = [x for x in arr if x < pivot]\n",
    "    mid = [x for x in arr if x == pivot]\n",
    "    right = [x for x in arr if x > pivot]\n",
    "    return quick_sort(left) + mid + quick_sort(right)\n",
    "\n",
    "print(quick_sort([5, 3, 8, 4, 2]))\n"
   ]
  },
  {
   "cell_type": "code",
   "execution_count": 5,
   "id": "90e7fb0b-94ea-45dd-b571-7731b0e62535",
   "metadata": {},
   "outputs": [],
   "source": [
    "#LINKED LIST\n",
    "class Node:\n",
    "    def __init__(self,data):\n",
    "        self.data=data\n",
    "        self.next=None\n",
    "class Sll:\n",
    "    def __init__(self):\n",
    "        self.head=None\n",
    "n1=Node(5)\n",
    "sll=Sll()\n",
    "sll.head=n1\n",
    "n2=Node(10)\n",
    "n1.next=n2\n",
    "n3=Node(15)\n",
    "n2.next=n3"
   ]
  },
  {
   "cell_type": "code",
   "execution_count": 7,
   "id": "383bf3e4-42ed-4457-a3fd-0b8147e6285a",
   "metadata": {},
   "outputs": [
    {
     "name": "stdout",
     "output_type": "stream",
     "text": [
      "5->10->15->\n",
      "2->5->10->15->\n",
      "2->5->10->15->20->\n",
      "2->5->8->10->15->20->"
     ]
    }
   ],
   "source": [
    "# Single linked list\n",
    "class Node:\n",
    "    def __init__(self, data):\n",
    "        self.data = data  \n",
    "        self.next = None\n",
    "class SLL:\n",
    "    def __init__(self):\n",
    "        self.head=None\n",
    "    def Traversal(self):\n",
    "        if self.head is None:\n",
    "            print(\"Linked list is empty\")\n",
    "        else:\n",
    "            temp=self.head\n",
    "            while temp!=None:\n",
    "                print(temp.data,end=\"->\")\n",
    "                temp=temp.next\n",
    "                \n",
    "    def insert_at_begin(self,data):\n",
    "        print()\n",
    "        new=Node(data)\n",
    "        if self.head is None:\n",
    "            self.head=new\n",
    "        else:\n",
    "            new.next=self.head\n",
    "            self.head=new\n",
    "    def insert_at_end(self,data):\n",
    "        print()\n",
    "        new1=Node(data)\n",
    "        if self.head is None:\n",
    "            self.head=new1\n",
    "        else:\n",
    "            temp=self.head\n",
    "            while temp.next!=None:\n",
    "                temp=temp.next\n",
    "            temp.next=new1\n",
    "    def insert_at_specific(self,data,pos):\n",
    "        print()\n",
    "        new2=Node(data)\n",
    "        temp=self.head\n",
    "        for i in range(1,pos-1):\n",
    "            temp=temp.next\n",
    "        new2.next=temp.next\n",
    "        temp.next=new2\n",
    "\n",
    "        \n",
    "n1=Node(5)\n",
    "sll=SLL()\n",
    "sll.head=n1\n",
    "n2=Node(10)\n",
    "n1.next=n2\n",
    "n3=Node(15)\n",
    "n2.next=n3\n",
    "sll.Traversal()\n",
    "sll.insert_at_begin(2)\n",
    "sll.Traversal()\n",
    "sll.insert_at_end(20)\n",
    "sll.Traversal()\n",
    "sll.insert_at_specific(8,3)\n",
    "sll.Traversal()"
   ]
  },
  {
   "cell_type": "code",
   "execution_count": null,
   "id": "c2d3188f-c6c1-4405-9eb2-d0fd8fdddaf0",
   "metadata": {},
   "outputs": [],
   "source": []
  }
 ],
 "metadata": {
  "kernelspec": {
   "display_name": "Python 3 (ipykernel)",
   "language": "python",
   "name": "python3"
  },
  "language_info": {
   "codemirror_mode": {
    "name": "ipython",
    "version": 3
   },
   "file_extension": ".py",
   "mimetype": "text/x-python",
   "name": "python",
   "nbconvert_exporter": "python",
   "pygments_lexer": "ipython3",
   "version": "3.13.5"
  }
 },
 "nbformat": 4,
 "nbformat_minor": 5
}
