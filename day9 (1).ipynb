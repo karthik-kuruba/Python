{
 "cells": [
  {
   "cell_type": "code",
   "execution_count": 1,
   "id": "115ea0ff-a1b2-4f47-ab1f-0f64a879897b",
   "metadata": {},
   "outputs": [
    {
     "name": "stdout",
     "output_type": "stream",
     "text": [
      "abt bike: GT 650 12 4\n",
      "abt bike: duke 390 30 2\n"
     ]
    }
   ],
   "source": [
    "#encapsulation :\n",
    "class bikes:\n",
    "    def __init__(self,name,cc,m,cost):\n",
    "        self.name=name\n",
    "        self.cc=cc\n",
    "        self.m=m\n",
    "        self.cost=cost\n",
    "    def performance(self):\n",
    "        print(\"abt bike:\",self.name,self.cc,self.m,self.cost)\n",
    "gt=bikes(\"GT\",650,12,4)\n",
    "duke=bikes(\"duke\",390,30,2)\n",
    "gt.performance()\n",
    "duke.performance()\n",
    "    \n",
    "    "
   ]
  },
  {
   "cell_type": "code",
   "execution_count": 2,
   "id": "37147988-8499-40be-95ad-475075fa1028",
   "metadata": {},
   "outputs": [
    {
     "name": "stdout",
     "output_type": "stream",
     "text": [
      "gt 650 15 4\n",
      "gt 650 15 4\n"
     ]
    }
   ],
   "source": [
    "class bikes :\n",
    "    def perf(self):\n",
    "        print(\"gt\",\"650\",15,4)\n",
    "gt=bikes()\n",
    "duke=bikes()\n",
    "gt.perf()\n",
    "duke.perf()"
   ]
  },
  {
   "cell_type": "code",
   "execution_count": 3,
   "id": "42a4e1a3-6be8-4553-9326-6b9e84f49e3c",
   "metadata": {},
   "outputs": [
    {
     "name": "stdout",
     "output_type": "stream",
     "text": [
      "4\n",
      "10\n",
      "9\n",
      "10\n",
      "None\n",
      "12\n"
     ]
    }
   ],
   "source": [
    "#encaplusation\n",
    "class cars:\n",
    "    wheels=4\n",
    "    def __init__(self,mil,car):\n",
    "        self.mil=mil\n",
    "        self.car=car\n",
    "    def get_mil(self):\n",
    "        return c1.mil\n",
    "    def set_mil(self):\n",
    "        c1.mil=12\n",
    "    @staticmethod\n",
    "    def info():\n",
    "        print(\"hi hello\")\n",
    "    @classmethod\n",
    "    def infor(cls):\n",
    "        return cls.wheels\n",
    "print(cars.infor())\n",
    "c1=cars(10,\"BMW\")\n",
    "c2=cars(15,\"audi\")\n",
    "c1.wheels=9\n",
    "print(c1.mil)\n",
    "print(c1.wheels)\n",
    "print(c1.get_mil())\n",
    "print(c1.set_mil())\n",
    "print(c1.mil)"
   ]
  },
  {
   "cell_type": "code",
   "execution_count": 4,
   "id": "ab77eb5f-c4c8-4e0a-b2ed-8502fc847f93",
   "metadata": {},
   "outputs": [
    {
     "name": "stdout",
     "output_type": "stream",
     "text": [
      "Compiling\n",
      "Running\n"
     ]
    }
   ],
   "source": [
    "#Polymorphism (Duck Typing)\n",
    "class pycharm:\n",
    "    def execute(self):\n",
    "        print(\"Compiling\")\n",
    "        print(\"Running\")\n",
    "class myeditor:\n",
    "    def execute(self):\n",
    "        print(\"debugging\")\n",
    "        print(\"printing error\")\n",
    "        print(\"compiling\")\n",
    "        print(\"running\")\n",
    "class laptop:\n",
    "    def code(self,ide):\n",
    "        ide.execute()\n",
    "ide=pycharm()\n",
    "lap1=laptop()\n",
    "lap1.code(ide)"
   ]
  },
  {
   "cell_type": "code",
   "execution_count": 5,
   "id": "4f94ffd9-2b9f-45cb-b836-3abc5386b2d2",
   "metadata": {},
   "outputs": [
    {
     "name": "stdout",
     "output_type": "stream",
     "text": [
      "124\n",
      "150\n",
      "s2 having more marks then s1\n"
     ]
    }
   ],
   "source": [
    "#operation over loading\n",
    "class student:\n",
    "    def __init__(self,m1,m2):\n",
    "        self.m1=m1\n",
    "        self.m2=m2\n",
    "    def __add__(self,other):\n",
    "        m1=self.m1+self.m2\n",
    "        m2=self.m2+other.m2\n",
    "        s3=student(m1,m2)\n",
    "        return s3\n",
    "    def __gt__(self,other):\n",
    "        r1=self.m1+self.m2\n",
    "        r2=other.m1+other.m2    \n",
    "        if r1>r2:\n",
    "            return True \n",
    "        else:\n",
    "            return False\n",
    "s1=student(59,65)\n",
    "s2=student(67,85)\n",
    "s3=s1+s2\n",
    "print(s3.m1)\n",
    "print(s3.m2)\n",
    "if s1>s2:\n",
    "    print(\"s1 having more marksthen s2\")\n",
    "else:\n",
    "    print(\"s2 having more marks then s1\")"
   ]
  },
  {
   "cell_type": "code",
   "execution_count": 7,
   "id": "587da5b5-e1f8-4091-9623-3c63de34bc80",
   "metadata": {},
   "outputs": [
    {
     "name": "stdout",
     "output_type": "stream",
     "text": [
      "3\n",
      "6\n",
      "0\n"
     ]
    }
   ],
   "source": [
    "#method overloading\n",
    "class math:\n",
    "    def add(self,a=0,b=0,c=0):\n",
    "        return a+b+c\n",
    "m=math()\n",
    "print(m.add(1,2))\n",
    "print(m.add(1,2,3))\n",
    "print(m.add())"
   ]
  },
  {
   "cell_type": "code",
   "execution_count": 10,
   "id": "b26ac973-e065-4ac6-8676-65606c571bee",
   "metadata": {},
   "outputs": [
    {
     "name": "stdout",
     "output_type": "stream",
     "text": [
      "dog barks\n"
     ]
    }
   ],
   "source": [
    "#single level inheritance\n",
    "class animal:\n",
    "    def sound(self):\n",
    "        return \"animals make different sounds\"\n",
    "class dog(animal):\n",
    "    def sound(self):\n",
    "        return \"dog barks\"\n",
    "d=dog()\n",
    "print(d.sound())"
   ]
  },
  {
   "cell_type": "code",
   "execution_count": 11,
   "id": "d5c79ef1-3506-418c-9d96-b3578ffc05e5",
   "metadata": {},
   "outputs": [
    {
     "name": "stdout",
     "output_type": "stream",
     "text": [
      "this is an engine\n",
      "car has 4 wheels\n",
      "this a car\n"
     ]
    }
   ],
   "source": [
    "# Multiple Inheritence \n",
    "class engine:\n",
    "    def engine_info(self):\n",
    "        return \"this is an engine\"\n",
    "class wheels:\n",
    "    def wheels_info(self):\n",
    "        return \"car has 4 wheels\"\n",
    "class car(engine,wheels):\n",
    "    def car_info(self):\n",
    "        return \"this a car\"\n",
    "c=car()\n",
    "print(c.engine_info())\n",
    "print(c.wheels_info())\n",
    "print(c.car_info())"
   ]
  },
  {
   "cell_type": "code",
   "execution_count": 12,
   "id": "c8e29cbd-a963-445b-bb90-362b157a9453",
   "metadata": {},
   "outputs": [
    {
     "name": "stdout",
     "output_type": "stream",
     "text": [
      "this is an animal\n",
      "this is mammal\n",
      "humans can speak\n"
     ]
    }
   ],
   "source": [
    "# Multi-level inheritence\n",
    "class Animal:\n",
    "    def species(self):\n",
    "        return \"this is an animal\"\n",
    "class Mammal(Animal):\n",
    "    def category(self):\n",
    "        return \"this is mammal\"\n",
    "class Human(Mammal):\n",
    "    def speak(self):\n",
    "        return \"humans can speak\"\n",
    "h=Human()\n",
    "print(h.species())\n",
    "print(h.category())\n",
    "print(h.speak())"
   ]
  },
  {
   "cell_type": "code",
   "execution_count": 13,
   "id": "8cb29d7d-29f1-4003-a45c-5c1cc080e1a1",
   "metadata": {},
   "outputs": [
    {
     "name": "stdout",
     "output_type": "stream",
     "text": [
      "vehicle can use petrol, desile, anf LPG\n",
      "car is a 4-wheeler\n",
      "bike is a 2-wheeler\n"
     ]
    }
   ],
   "source": [
    "# Hierarchical Inheritence\n",
    "class vehicle:\n",
    "    def fuel_type(self):\n",
    "        return \"vehicle can use petrol, desile, anf LPG\"\n",
    "class car(vehicle):\n",
    "    def type(self):\n",
    "        return \"car is a 4-wheeler\"\n",
    "class bike(vehicle):\n",
    "    def type(self):\n",
    "        return \"bike is a 2-wheeler\"\n",
    "c=car()\n",
    "b=bike()\n",
    "print(c.fuel_type())\n",
    "print(c.type())\n",
    "print(b.type())"
   ]
  },
  {
   "cell_type": "code",
   "execution_count": 14,
   "id": "e0246c19-4792-405a-948b-413cbaedbcab",
   "metadata": {},
   "outputs": [
    {
     "name": "stdout",
     "output_type": "stream",
     "text": [
      "I am a Person\n",
      "I am a Student\n",
      "I am good at Sports\n",
      "I am a Student Athlete\n"
     ]
    }
   ],
   "source": [
    "# Hybrid Inheritence\n",
    "\n",
    "class Person:\n",
    "    def info(self):\n",
    "        print(\"I am a Person\")\n",
    "class Student(Person):\n",
    "    def role(self):\n",
    "        print(\"I am a Student\")\n",
    "class Sportsperson:\n",
    "    def talent(self):\n",
    "        print(\"I am good at Sports\")\n",
    "class StudentAthlete(Student, Sportsperson):\n",
    "    def identity(self):\n",
    "        print(\"I am a Student Athlete\")\n",
    "sa = StudentAthlete()\n",
    "sa.info()       \n",
    "sa.role()       \n",
    "sa.talent()     \n",
    "sa.identity()   \n"
   ]
  },
  {
   "cell_type": "code",
   "execution_count": 17,
   "id": "9bc29491-9b7a-4dde-8de1-0b0f92b3b232",
   "metadata": {},
   "outputs": [
    {
     "name": "stdin",
     "output_type": "stream",
     "text": [
      "Enter key: 6\n"
     ]
    },
    {
     "name": "stdout",
     "output_type": "stream",
     "text": [
      "Key found at index: 7\n"
     ]
    }
   ],
   "source": [
    "#linear search\n",
    "def search(list1,key):\n",
    "    for i in range(len(list1)):\n",
    "        if key==list1[i]:\n",
    "            print(\"Key found at index:\",i)\n",
    "            break\n",
    "    else:\n",
    "        print(\"Key not found\")\n",
    "list1=[7,5,1,3,8,9,2,6]\n",
    "key=(int(input(\"Enter key:\"))) \n",
    "search(list1,key)"
   ]
  },
  {
   "cell_type": "code",
   "execution_count": 19,
   "id": "f2d91823-8344-46ad-97d9-056387299bc4",
   "metadata": {},
   "outputs": [
    {
     "name": "stdout",
     "output_type": "stream",
     "text": [
      "Sorted array: [1, 2, 3, 5, 6, 7, 8, 9]\n"
     ]
    },
    {
     "name": "stdin",
     "output_type": "stream",
     "text": [
      "Enter key:  5\n"
     ]
    },
    {
     "name": "stdout",
     "output_type": "stream",
     "text": [
      "Key found at index: 3\n"
     ]
    }
   ],
   "source": [
    "# Binary Search (corrected)\n",
    "arr = [7, 5, 1, 3, 8, 9, 2, 6]\n",
    "arr.sort()  \n",
    "print(\"Sorted array:\", arr)\n",
    "\n",
    "key = int(input(\"Enter key: \"))\n",
    "\n",
    "def binary_search(arr, key):\n",
    "    low = 0\n",
    "    high = len(arr) - 1\n",
    "\n",
    "    while low <= high:\n",
    "        mid = (low + high) // 2 \n",
    "        if arr[mid] == key:\n",
    "            return mid\n",
    "        elif arr[mid] < key:\n",
    "            low = mid + 1\n",
    "        else:\n",
    "            high = mid - 1\n",
    "    return -1\n",
    "\n",
    "result = binary_search(arr, key)\n",
    "\n",
    "if result != -1:\n",
    "    print(\"Key found at index:\", result)\n",
    "else:\n",
    "    print(\"Key not found\")"
   ]
  },
  {
   "cell_type": "code",
   "execution_count": 20,
   "id": "847db41c-5aec-4142-ad7a-311170c44873",
   "metadata": {},
   "outputs": [
    {
     "name": "stdin",
     "output_type": "stream",
     "text": [
      "Enter key:  2\n"
     ]
    },
    {
     "name": "stdout",
     "output_type": "stream",
     "text": [
      "Last occurrence of 2 is at index: 6\n"
     ]
    }
   ],
   "source": [
    "def last_occurrence_unsorted(arr, key):\n",
    "    for i in range(len(arr) - 1, -1, -1):  # iterate backward\n",
    "        if arr[i] == key:\n",
    "            print(\"Last occurrence of\", key, \"is at index:\", i)\n",
    "            return\n",
    "    print(\"Key not found\")\n",
    "\n",
    "# Example\n",
    "arr = [5, 2, 3, 7, 2, 4, 2]\n",
    "key = int(input(\"Enter key: \"))\n",
    "last_occurrence_unsorted(arr, key)\n"
   ]
  },
  {
   "cell_type": "code",
   "execution_count": null,
   "id": "e2b6e5fc-d57b-404d-bb37-dbbcb5caa8cd",
   "metadata": {},
   "outputs": [],
   "source": []
  }
 ],
 "metadata": {
  "kernelspec": {
   "display_name": "Python 3 (ipykernel)",
   "language": "python",
   "name": "python3"
  },
  "language_info": {
   "codemirror_mode": {
    "name": "ipython",
    "version": 3
   },
   "file_extension": ".py",
   "mimetype": "text/x-python",
   "name": "python",
   "nbconvert_exporter": "python",
   "pygments_lexer": "ipython3",
   "version": "3.13.5"
  }
 },
 "nbformat": 4,
 "nbformat_minor": 5
}
