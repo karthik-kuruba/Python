{
 "cells": [
  {
   "cell_type": "code",
   "execution_count": 1,
   "id": "abeffbe7-f7f9-448a-ade5-e0145b5554a7",
   "metadata": {},
   "outputs": [
    {
     "name": "stdout",
     "output_type": "stream",
     "text": [
      "[1, 3, 6, 10]\n",
      "[1, 2, 3, 4, 5]\n",
      "[3, 4, 6, 16, 17]\n"
     ]
    }
   ],
   "source": [
    "def running_sum(nums):\n",
    "    result = []\n",
    "    total = 0\n",
    "    for num in nums:\n",
    "        total += num\n",
    "        result.append(total)\n",
    "    return result\n",
    "\n",
    "# Example usage:\n",
    "print(running_sum([1, 2, 3, 4]))      # Output: [1, 3, 6, 10]\n",
    "print(running_sum([1, 1, 1, 1, 1]))   # Output: [1, 2, 3, 4, 5]\n",
    "print(running_sum([3, 1, 2, 10, 1]))  # Output: [3, 4, 6, 16, 17]"
   ]
  },
  {
   "cell_type": "code",
   "execution_count": 5,
   "id": "1864acf1-8e70-4850-b940-c0e33e8ede6a",
   "metadata": {},
   "outputs": [
    {
     "name": "stdin",
     "output_type": "stream",
     "text": [
      " 10\n"
     ]
    },
    {
     "name": "stdout",
     "output_type": "stream",
     "text": [
      "11\n"
     ]
    }
   ],
   "source": [
    "def XoR(n):\n",
    "    if n%4==1:\n",
    "        return 1\n",
    "    if n%4==2:\n",
    "        return n+1\n",
    "    if n%4==3:\n",
    "        return 0\n",
    "    if n%4==0:\n",
    "        return n\n",
    "n=int(input())\n",
    "print(XoR(n))"
   ]
  },
  {
   "cell_type": "code",
   "execution_count": null,
   "id": "a08e50bd-9d70-4ee9-8856-e9e0bc50fb00",
   "metadata": {},
   "outputs": [],
   "source": []
  }
 ],
 "metadata": {
  "kernelspec": {
   "display_name": "Python [conda env:base] *",
   "language": "python",
   "name": "conda-base-py"
  },
  "language_info": {
   "codemirror_mode": {
    "name": "ipython",
    "version": 3
   },
   "file_extension": ".py",
   "mimetype": "text/x-python",
   "name": "python",
   "nbconvert_exporter": "python",
   "pygments_lexer": "ipython3",
   "version": "3.13.5"
  }
 },
 "nbformat": 4,
 "nbformat_minor": 5
}
