{
 "cells": [
  {
   "cell_type": "code",
   "execution_count": 2,
   "id": "53901ba4-d8e7-4add-9ea0-f191b608bb02",
   "metadata": {},
   "outputs": [
    {
     "name": "stdin",
     "output_type": "stream",
     "text": [
      " abcd@#$%1234#$%\n"
     ]
    },
    {
     "name": "stdout",
     "output_type": "stream",
     "text": [
      "4 4\n"
     ]
    }
   ],
   "source": [
    "#checking char and special char\n",
    "s=input()\n",
    "ca=0\n",
    "cd=0\n",
    "for char in s:\n",
    "    if char.isalpha():\n",
    "        ca+=1\n",
    "    if char.isdigit():\n",
    "        cd+=1\n",
    "print(ca,cd)"
   ]
  },
  {
   "cell_type": "code",
   "execution_count": 4,
   "id": "6160e927-80c5-4f21-a209-0068bf37b8c5",
   "metadata": {},
   "outputs": [
    {
     "name": "stdin",
     "output_type": "stream",
     "text": [
      " abcdefgh\n"
     ]
    },
    {
     "name": "stdout",
     "output_type": "stream",
     "text": [
      "6\n"
     ]
    }
   ],
   "source": [
    "#vowels and consonent\n",
    "s=input()\n",
    "c=0\n",
    "v='aeiouAEIOU'\n",
    "for char in s:\n",
    "    if char not in v:\n",
    "        c+=1\n",
    "print(c)"
   ]
  },
  {
   "cell_type": "code",
   "execution_count": 8,
   "id": "814bc16e-7e2a-4a41-9a03-a368bf1cbd02",
   "metadata": {},
   "outputs": [
    {
     "name": "stdin",
     "output_type": "stream",
     "text": [
      " hi hello\n"
     ]
    },
    {
     "name": "stdout",
     "output_type": "stream",
     "text": [
      "8\n"
     ]
    }
   ],
   "source": [
    "#count of the string \n",
    "s=input()\n",
    "print(len(s))"
   ]
  },
  {
   "cell_type": "code",
   "execution_count": 9,
   "id": "4f1a4149-3a7b-4e80-8413-f907003534e9",
   "metadata": {},
   "outputs": [
    {
     "name": "stdin",
     "output_type": "stream",
     "text": [
      " hi karthik\n"
     ]
    },
    {
     "data": {
      "text/plain": [
       "'hi karthik'"
      ]
     },
     "execution_count": 9,
     "metadata": {},
     "output_type": "execute_result"
    }
   ],
   "source": [
    "#replace with space with \" \"\n",
    "s=input()\n",
    "s.replace(\" \", \" \")"
   ]
  },
  {
   "cell_type": "code",
   "execution_count": 11,
   "id": "fca11bbd-3b8e-453e-8a83-3fe53d5bfc49",
   "metadata": {},
   "outputs": [
    {
     "name": "stdin",
     "output_type": "stream",
     "text": [
      "enter string: hi hello bitm\n"
     ]
    },
    {
     "name": "stdout",
     "output_type": "stream",
     "text": [
      "hi-hello-bitm\n"
     ]
    }
   ],
   "source": [
    "#getting with '-'\n",
    "s=input(\"enter string:\")\n",
    "s1=\"\"\n",
    "for char in s:\n",
    "    if char.isspace():\n",
    "        s1+='-'\n",
    "    else:\n",
    "        s1+=char\n",
    "print(s1)\n",
    "        "
   ]
  },
  {
   "cell_type": "code",
   "execution_count": 12,
   "id": "dc1d18c4-a116-4668-92ac-23fd6378da2f",
   "metadata": {},
   "outputs": [
    {
     "name": "stdin",
     "output_type": "stream",
     "text": [
      "enter string hello ballari\n"
     ]
    },
    {
     "name": "stdout",
     "output_type": "stream",
     "text": [
      "Hello Ballari\n"
     ]
    }
   ],
   "source": [
    "#first word with capital letter \n",
    "s=input(\"enter string\")\n",
    "s=s.title()\n",
    "print(s)"
   ]
  },
  {
   "cell_type": "code",
   "execution_count": 13,
   "id": "f29abd20-7c77-41d9-80e8-97cb3475509f",
   "metadata": {},
   "outputs": [
    {
     "name": "stdin",
     "output_type": "stream",
     "text": [
      "Enter the str: hello ballari\n"
     ]
    },
    {
     "name": "stdout",
     "output_type": "stream",
     "text": [
      "Hello Ballari \n"
     ]
    }
   ],
   "source": [
    "# First letter of each word should be capital (without using Title)\n",
    "s=input(\"Enter the str:\")\n",
    "words=s.split()\n",
    "res=''\n",
    "for word in words:\n",
    "    cap=word[0].upper()+word[1:]+\" \"\n",
    "    res+=cap\n",
    "print(res)"
   ]
  },
  {
   "cell_type": "code",
   "execution_count": 14,
   "id": "f29191f7-6d45-4cd1-932b-ce89d91738f2",
   "metadata": {},
   "outputs": [
    {
     "name": "stdin",
     "output_type": "stream",
     "text": [
      " hello bitm\n"
     ]
    },
    {
     "name": "stdout",
     "output_type": "stream",
     "text": [
      "mtib olleh\n"
     ]
    }
   ],
   "source": [
    "# reverse a string without using a slicing\n",
    "s = input()\n",
    "reverseds = \"\"\n",
    "for char in s:\n",
    "    reverseds = char + reverseds\n",
    "print(reverseds)\n"
   ]
  },
  {
   "cell_type": "code",
   "execution_count": 18,
   "id": "332c8592-0db6-423b-9c1e-ba4d56b68630",
   "metadata": {},
   "outputs": [
    {
     "name": "stdin",
     "output_type": "stream",
     "text": [
      "Enter a sting: karthik\n"
     ]
    },
    {
     "name": "stdout",
     "output_type": "stream",
     "text": [
      "karthik 7\n"
     ]
    }
   ],
   "source": [
    "# Lengeth of the longest word and print that word\n",
    "s=input(\"Enter a sting:\")\n",
    "words=s.split()\n",
    "longest_word=\"\"\n",
    "for word in words:\n",
    "    if len(word)>len(longest_word):\n",
    "        longest_word=word\n",
    "c=len(longest_word)\n",
    "print(longest_word,c)"
   ]
  },
  {
   "cell_type": "code",
   "execution_count": 25,
   "id": "3f96d3d1-52f0-4d56-a17b-d19d230610ff",
   "metadata": {},
   "outputs": [
    {
     "name": "stdin",
     "output_type": "stream",
     "text": [
      "Enter a sting: madam\n"
     ]
    },
    {
     "name": "stdout",
     "output_type": "stream",
     "text": [
      "Palindrome\n"
     ]
    }
   ],
   "source": [
    "# Check whether the string is plaindrom sequence\n",
    "s=input(\"Enter a sting:\")\n",
    "reverse = \"\"\n",
    "for char in s:\n",
    "    reverse = char + reverse\n",
    "if reverse==s:\n",
    "    print(\"Palindrome\")\n",
    "else:\n",
    "    print(\"Not palindrome\")"
   ]
  },
  {
   "cell_type": "code",
   "execution_count": 28,
   "id": "7c3a7905-9ea8-47e6-906d-71492db3ab85",
   "metadata": {},
   "outputs": [
    {
     "name": "stdin",
     "output_type": "stream",
     "text": [
      " karthik\n"
     ]
    },
    {
     "name": "stdout",
     "output_type": "stream",
     "text": [
      "karthi\n"
     ]
    }
   ],
   "source": [
    "#remove duplicates\n",
    "s=input()\n",
    "rev=''\n",
    "for s in s:\n",
    "    if s not in rev:\n",
    "        rev+=s\n",
    "print( rev)\n",
    "    "
   ]
  },
  {
   "cell_type": "code",
   "execution_count": 29,
   "id": "dd65dc0e-db17-46ae-8875-92c8e5b5497b",
   "metadata": {},
   "outputs": [
    {
     "name": "stdin",
     "output_type": "stream",
     "text": [
      "Enter a sting: karthik\n"
     ]
    },
    {
     "name": "stdout",
     "output_type": "stream",
     "text": [
      "Most frequent character: k\n",
      "Frequency: 2\n"
     ]
    }
   ],
   "source": [
    "# Most frequent character in a word\n",
    "s=input(\"Enter a sting:\")\n",
    "m_count=0\n",
    "fre={}\n",
    "for char in s:\n",
    "    count=s.count(char)\n",
    "    if count > m_count:\n",
    "        m_count = count\n",
    "        fre=char\n",
    "\n",
    "print(\"Most frequent character:\", fre)\n",
    "print(\"Frequency:\", m_count)\n"
   ]
  },
  {
   "cell_type": "code",
   "execution_count": 32,
   "id": "176c1aff-5951-4ea9-ab05-8c0d6ef110c8",
   "metadata": {},
   "outputs": [
    {
     "name": "stdin",
     "output_type": "stream",
     "text": [
      "Enter password:  Karthik@123\n"
     ]
    },
    {
     "name": "stdout",
     "output_type": "stream",
     "text": [
      "Valid password\n"
     ]
    }
   ],
   "source": [
    "password = input(\"Enter password: \")\n",
    "\n",
    "special_chars = \"!@#$%^&*()_+-=\"\n",
    "\n",
    "if len(password) < 6:\n",
    "    print(\"Password too short\")\n",
    "elif not any(c.isupper() for c in password):\n",
    "    print(\"Add at least one uppercase letter\")\n",
    "elif not any(c.islower() for c in password):\n",
    "    print(\"Add at least one lowercase letter\")\n",
    "elif not any(c.isdigit() for c in password):\n",
    "    print(\"Add at least one number\")\n",
    "elif not any(c in special_chars for c in password):\n",
    "    print(\"Add at least one special character\")\n",
    "else:\n",
    "    print(\"Valid password\")\n",
    "\n"
   ]
  },
  {
   "cell_type": "code",
   "execution_count": 33,
   "id": "d1874294-848e-430b-bf49-cd5ae699169f",
   "metadata": {},
   "outputs": [
    {
     "name": "stdin",
     "output_type": "stream",
     "text": [
      "Enter password:  Karthik@1234\n"
     ]
    },
    {
     "name": "stdout",
     "output_type": "stream",
     "text": [
      "1\n"
     ]
    }
   ],
   "source": [
    "# Check weather the password is following the rules or not\n",
    "password = input(\"Enter password: \")\n",
    "uc,lc,d,sp,cc=1,1,1,1,0\n",
    "sp_count=0\n",
    "fcc=0\n",
    "c=0\n",
    "l=len(password)\n",
    "if not l>+6 and l<22:\n",
    "    c=1\n",
    "for i in range(l):\n",
    "    if password[i].isupper():\n",
    "        uc=0\n",
    "    if password[i].islower():\n",
    "        lc=0\n",
    "    if password[i].isdigit():\n",
    "        d=0\n",
    "    if password[i] in \"!@#$%^&*+-_\":\n",
    "        sp_count+=1\n",
    "    if sp_count >=2:\n",
    "        sp=0\n",
    "    if i+1<l and password[i]==password[i+1]:\n",
    "        cc=1\n",
    "fc=uc+lc+d+sp+cc+c\n",
    "print(fc)"
   ]
  },
  {
   "cell_type": "code",
   "execution_count": 34,
   "id": "4da21b69-9f93-418f-bc69-511db3eaabfa",
   "metadata": {},
   "outputs": [
    {
     "name": "stdin",
     "output_type": "stream",
     "text": [
      " malayalam\n"
     ]
    },
    {
     "name": "stdout",
     "output_type": "stream",
     "text": [
      "True\n"
     ]
    }
   ],
   "source": [
    "# Check Palindrom Sequence using two for loops\n",
    "s=input()\n",
    "i,j=0,len(s)-1\n",
    "while i<=j:\n",
    "    if s[i]!=s[j]:\n",
    "        print(False)\n",
    "        break\n",
    "    i+=1\n",
    "    j-=1\n",
    "else:\n",
    "    print(True)"
   ]
  },
  {
   "cell_type": "code",
   "execution_count": null,
   "id": "6e68c322-b2f2-4cb5-bec9-ceaf34654159",
   "metadata": {},
   "outputs": [],
   "source": []
  }
 ],
 "metadata": {
  "kernelspec": {
   "display_name": "Python [conda env:base] *",
   "language": "python",
   "name": "conda-base-py"
  },
  "language_info": {
   "codemirror_mode": {
    "name": "ipython",
    "version": 3
   },
   "file_extension": ".py",
   "mimetype": "text/x-python",
   "name": "python",
   "nbconvert_exporter": "python",
   "pygments_lexer": "ipython3",
   "version": "3.13.5"
  }
 },
 "nbformat": 4,
 "nbformat_minor": 5
}
