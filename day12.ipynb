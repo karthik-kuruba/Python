{
 "cells": [
  {
   "cell_type": "code",
   "execution_count": 1,
   "id": "6fc360c1-c228-4044-b9c1-79a560325935",
   "metadata": {},
   "outputs": [
    {
     "name": "stdin",
     "output_type": "stream",
     "text": [
      "Enter the data:  55\n"
     ]
    },
    {
     "name": "stdout",
     "output_type": "stream",
     "text": [
      "1\n"
     ]
    }
   ],
   "source": [
    "def security_key(num):\n",
    "    num_str = str(num)  \n",
    "    digit_count = {}\n",
    "    for d in num_str:\n",
    "        digit_count[d] = digit_count.get(d, 0) + 1\n",
    "    repeat_count = sum(1 for count in digit_count.values() if count > 1)\n",
    "    return repeat_count if repeat_count > 0 else -1\n",
    "num = input(\"Enter the data: \") \n",
    "print(security_key(num)) \n",
    "\n",
    "\n"
   ]
  },
  {
   "cell_type": "code",
   "execution_count": 6,
   "id": "c2e40b36-02d1-49f4-8b11-01f351ec0f7f",
   "metadata": {},
   "outputs": [
    {
     "name": "stdin",
     "output_type": "stream",
     "text": [
      "Enter the data: 1555 5\n"
     ]
    },
    {
     "name": "stdout",
     "output_type": "stream",
     "text": [
      "3\n"
     ]
    }
   ],
   "source": [
    "data,digit=input(\"Enter the data:\").split()\n",
    "count=data.count(digit)\n",
    "print(count)"
   ]
  },
  {
   "cell_type": "code",
   "execution_count": 7,
   "id": "229f0110-5b94-439e-906a-78fd41d0e74e",
   "metadata": {},
   "outputs": [
    {
     "name": "stdin",
     "output_type": "stream",
     "text": [
      "Enter the number 859\n",
      "Enter the number of repeated number of times 596\n"
     ]
    },
    {
     "name": "stdout",
     "output_type": "stream",
     "text": [
      "0\n"
     ]
    }
   ],
   "source": [
    "n=input(\"Enter the number\")\n",
    "m=int(input(\"Enter the number of repeated number of times\"))\n",
    "s=str(n)\n",
    "d={}\n",
    "for i in s:\n",
    "    if i not in d:\n",
    "        d[i]=1\n",
    "    else:\n",
    "        d[i]+=1\n",
    "res=0\n",
    "for i in d:\n",
    "    if d[i]==m:\n",
    "        res=i\n",
    "print(res)"
   ]
  },
  {
   "cell_type": "code",
   "execution_count": 10,
   "id": "04ff19e7-b4e7-4b7c-8417-cffe451d9fc9",
   "metadata": {},
   "outputs": [
    {
     "name": "stdin",
     "output_type": "stream",
     "text": [
      "Enter the number 6\n",
      "Enter the adjacent values  0\n"
     ]
    },
    {
     "name": "stdout",
     "output_type": "stream",
     "text": [
      "[0]\n",
      "Sum 0\n"
     ]
    }
   ],
   "source": [
    "# Sum of adjacent distances\n",
    "num=int(input(\"Enter the number\"))\n",
    "adjacent=list(map(int,input(\"Enter the adjacent values \").split()))\n",
    "print(adjacent)\n",
    "sum=0\n",
    "for i in range (len(adjacent)-1):\n",
    "    sum+=abs(adjacent[i]-adjacent[i+1])\n",
    "print(\"Sum\",sum)"
   ]
  },
  {
   "cell_type": "code",
   "execution_count": 11,
   "id": "0d537b32-ea7b-460a-916c-57f6a7b19112",
   "metadata": {},
   "outputs": [
    {
     "name": "stdin",
     "output_type": "stream",
     "text": [
      "Enter a string:  karthik@#$\n"
     ]
    },
    {
     "name": "stdout",
     "output_type": "stream",
     "text": [
      "Specific_ch 7\n"
     ]
    }
   ],
   "source": [
    "text = input(\"Enter a string: \")\n",
    "text = text.lower()\n",
    "specific_ch = \"@#$%&\"\n",
    "specific_ch=0\n",
    "\n",
    "\n",
    "for char in text:\n",
    "    if char.isalpha(): \n",
    "        # if char in specific_ch:\n",
    "           specific_ch += 1\n",
    "\n",
    "print(\"Specific_ch\",specific_ch)\n",
    "\n"
   ]
  },
  {
   "cell_type": "code",
   "execution_count": null,
   "id": "dd79ce71-425a-4493-8b2a-3de7efe68891",
   "metadata": {},
   "outputs": [],
   "source": []
  }
 ],
 "metadata": {
  "kernelspec": {
   "display_name": "Python 3 (ipykernel)",
   "language": "python",
   "name": "python3"
  },
  "language_info": {
   "codemirror_mode": {
    "name": "ipython",
    "version": 3
   },
   "file_extension": ".py",
   "mimetype": "text/x-python",
   "name": "python",
   "nbconvert_exporter": "python",
   "pygments_lexer": "ipython3",
   "version": "3.13.5"
  }
 },
 "nbformat": 4,
 "nbformat_minor": 5
}
